{
 "cells": [
  {
   "cell_type": "markdown",
   "metadata": {},
   "source": [
    "# Basics\n",
    "- Interactive Shell (+ ipython)\n",
    "- Python and Jupyter Notebook\n",
    "- Indentation\n",
    "- Printing\n",
    "- Comments\n",
    "- Taking input\n",
    "- Variable declaration, definition, assignment (strongly-dynamically typed)"
   ]
  },
  {
   "cell_type": "code",
   "execution_count": 3,
   "metadata": {},
   "outputs": [
    {
     "name": "stdout",
     "output_type": "stream",
     "text": [
      "Hello World!\n",
      "Hello World!Please enter input: asdf\n"
     ]
    },
    {
     "data": {
      "text/plain": [
       "'asdf'"
      ]
     },
     "execution_count": 3,
     "metadata": {},
     "output_type": "execute_result"
    }
   ],
   "source": [
    "# Printing hello world\n",
    "print(\"Hello World!\")\n",
    "print(\"Hello\", \"World\", sep=\" \", end=\"!\") # Optional parameters\n",
    "\n",
    "input(\"Please enter input: \") # Prompt for input"
   ]
  },
  {
   "cell_type": "code",
   "execution_count": null,
   "metadata": {},
   "outputs": [],
   "source": [
    "# Allowed variable names\n",
    "aasdf = 1\n",
    "_aasdf = 1\n",
    "asf123d_ = 1\n",
    "_ = 1"
   ]
  },
  {
   "cell_type": "code",
   "execution_count": null,
   "metadata": {},
   "outputs": [],
   "source": []
  },
  {
   "cell_type": "code",
   "execution_count": null,
   "metadata": {},
   "outputs": [],
   "source": []
  },
  {
   "cell_type": "code",
   "execution_count": null,
   "metadata": {},
   "outputs": [],
   "source": []
  },
  {
   "cell_type": "markdown",
   "metadata": {},
   "source": [
    "# Data Types\n",
    "- type()\n",
    "- Numeric\n",
    "    - Integer\n",
    "    - Float\n",
    "- String\n",
    "- Boolean\n",
    "- Complex\n",
    "- None\n",
    "- Type Casting VS Type Coercion"
   ]
  },
  {
   "cell_type": "code",
   "execution_count": 8,
   "metadata": {},
   "outputs": [
    {
     "name": "stdout",
     "output_type": "stream",
     "text": [
      "Type of 1 is <class 'int'>\n",
      "Type of 1e-100 is <class 'float'>\n",
      "Type of hello is <class 'str'>\n",
      "Type of False is <class 'bool'>\n",
      "Type of (1+2j) is <class 'complex'>\n"
     ]
    }
   ],
   "source": [
    "i = 1\n",
    "f = 1.0\n",
    "f = 1e-100\n",
    "s = 'hello'\n",
    "b = False or True\n",
    "c = 1+2j\n",
    "print(\"Type of {} is {}\".format(i, type(i)),\n",
    "      \"Type of {} is {}\".format(f, type(f)),\n",
    "      \"Type of {} is {}\".format(s, type(s)),\n",
    "      \"Type of {} is {}\".format(b, type(b)),\n",
    "      \"Type of {} is {}\".format(c, type(c)),\n",
    "      sep='\\n'\n",
    "     \n",
    "     )"
   ]
  },
  {
   "cell_type": "code",
   "execution_count": 260,
   "metadata": {},
   "outputs": [
    {
     "data": {
      "text/plain": [
       "int"
      ]
     },
     "execution_count": 260,
     "metadata": {},
     "output_type": "execute_result"
    }
   ],
   "source": [
    "# Type casting\n",
    "type(int('123'))\n",
    "\n",
    "# Type coercion\n",
    "1 == 1.0"
   ]
  },
  {
   "cell_type": "code",
   "execution_count": null,
   "metadata": {},
   "outputs": [],
   "source": []
  },
  {
   "cell_type": "code",
   "execution_count": null,
   "metadata": {},
   "outputs": [],
   "source": []
  },
  {
   "cell_type": "code",
   "execution_count": null,
   "metadata": {},
   "outputs": [],
   "source": []
  },
  {
   "cell_type": "markdown",
   "metadata": {},
   "source": [
    "# Operators and Operations\n",
    "- Arithmetic (+ - * / % ** //)\n",
    "- Comparison (== > < <= >= !=)\n",
    "- Logical (and or not) (& | ^)\n",
    "- Assigment (+= -= *= /= **=)\n",
    "- Unary (+ - ~)\n",
    "- 'is' operator\n",
    "- [dot] operator"
   ]
  },
  {
   "cell_type": "code",
   "execution_count": 12,
   "metadata": {},
   "outputs": [
    {
     "name": "stdout",
     "output_type": "stream",
     "text": [
      "0\n",
      "4\n",
      "1\n"
     ]
    }
   ],
   "source": [
    "1+1\n",
    "1+2\n",
    "1-2\n",
    "1*2\n",
    "1/2\n",
    "a = 1\n",
    "b = 2\n",
    "\n",
    "print(1//2) # floor division\n",
    "print(2**2)\n",
    "print(4%3)"
   ]
  },
  {
   "cell_type": "code",
   "execution_count": 17,
   "metadata": {},
   "outputs": [
    {
     "data": {
      "text/plain": [
       "False"
      ]
     },
     "execution_count": 17,
     "metadata": {},
     "output_type": "execute_result"
    }
   ],
   "source": [
    "not True"
   ]
  },
  {
   "cell_type": "code",
   "execution_count": null,
   "metadata": {},
   "outputs": [],
   "source": [
    "a = 2\n",
    "a = a + 2\n",
    "\n",
    "a += 2"
   ]
  },
  {
   "cell_type": "code",
   "execution_count": 22,
   "metadata": {},
   "outputs": [
    {
     "data": {
      "text/plain": [
       "123"
      ]
     },
     "execution_count": 22,
     "metadata": {},
     "output_type": "execute_result"
    }
   ],
   "source": [
    "a = 'asdf'\n",
    "a + str(3)\n",
    "\n",
    "s = '123'\n",
    "int(s)"
   ]
  },
  {
   "cell_type": "code",
   "execution_count": 23,
   "metadata": {},
   "outputs": [
    {
     "data": {
      "text/plain": [
       "True"
      ]
     },
     "execution_count": 23,
     "metadata": {},
     "output_type": "execute_result"
    }
   ],
   "source": [
    "1 == 1.0"
   ]
  },
  {
   "cell_type": "code",
   "execution_count": 25,
   "metadata": {},
   "outputs": [
    {
     "data": {
      "text/plain": [
       "False"
      ]
     },
     "execution_count": 25,
     "metadata": {},
     "output_type": "execute_result"
    }
   ],
   "source": [
    "1 is not 1"
   ]
  },
  {
   "cell_type": "code",
   "execution_count": 26,
   "metadata": {},
   "outputs": [
    {
     "data": {
      "text/plain": [
       "4300091408"
      ]
     },
     "execution_count": 26,
     "metadata": {},
     "output_type": "execute_result"
    }
   ],
   "source": [
    "id(1) # Read more about id"
   ]
  },
  {
   "cell_type": "code",
   "execution_count": null,
   "metadata": {},
   "outputs": [],
   "source": []
  },
  {
   "cell_type": "code",
   "execution_count": null,
   "metadata": {},
   "outputs": [],
   "source": []
  },
  {
   "cell_type": "markdown",
   "metadata": {},
   "source": [
    "# Control Flow Statements\n",
    "- Conditional (if-elif-else)\n",
    "- Looping (while, for)\n",
    "    - 'in' operator\n",
    "    - break, continue, pass\n",
    "- Nestings"
   ]
  },
  {
   "cell_type": "code",
   "execution_count": 261,
   "metadata": {},
   "outputs": [
    {
     "name": "stdout",
     "output_type": "stream",
     "text": [
      "Enter name: qwerty\n",
      "keyboard\n"
     ]
    }
   ],
   "source": [
    "name = input(\"Enter name: \")\n",
    "if name == 'asdf':\n",
    "    print('hEllo')\n",
    "elif name =='qwerty':\n",
    "    print('keyboard')\n",
    "else:\n",
    "    print('bye')"
   ]
  },
  {
   "cell_type": "code",
   "execution_count": 32,
   "metadata": {},
   "outputs": [
    {
     "name": "stdout",
     "output_type": "stream",
     "text": [
      "0\n",
      "1\n",
      "2\n",
      "3\n",
      "4\n",
      "5\n",
      "6\n",
      "7\n",
      "8\n",
      "9\n"
     ]
    }
   ],
   "source": [
    "i = 0\n",
    "while i<10:\n",
    "    print(i)\n",
    "    i += 1"
   ]
  },
  {
   "cell_type": "code",
   "execution_count": 266,
   "metadata": {},
   "outputs": [
    {
     "name": "stdout",
     "output_type": "stream",
     "text": [
      "0\n",
      "0 1\n",
      "0 1 2\n",
      "0 1 2 3\n",
      "0 1 2 3 4\n",
      "0 1 2 3 4 5\n",
      "0 1 2 3 4 5 6\n",
      "0 1 2 3 4 5 6 7\n",
      "0 1 2 3 4 5 6 7 8\n",
      "0 1 2 3 4 5 6 7 8 9\n",
      "          0\n",
      "         01\n",
      "        012\n",
      "       0123\n",
      "      01234\n",
      "     012345\n",
      "    0123456\n",
      "   01234567\n",
      "  012345678\n",
      " 0123456789\n",
      "Enter N: 5\n",
      "     \n",
      "    * \n",
      "   * * \n",
      "  * * * \n",
      " * * * * \n",
      "* * * * * \n"
     ]
    }
   ],
   "source": [
    "# Nested loops\n",
    "for i in range(10):\n",
    "    for j in range(i):\n",
    "        print(j, end=' ')\n",
    "    print(i)\n",
    "    \n",
    "for i in range(10):\n",
    "    print(' '*(10-i), end='')\n",
    "    for j in range(i):\n",
    "        print(j, end='')\n",
    "    print(i)\n",
    "    \n",
    "n = int(input(\"Enter N: \"))\n",
    "for i in range(n+1):\n",
    "    print(\" \" * (n-i), end=\"\")\n",
    "    for j in range(i):\n",
    "        print(\"* \", end=\"\")\n",
    "    print()"
   ]
  },
  {
   "cell_type": "code",
   "execution_count": 42,
   "metadata": {},
   "outputs": [
    {
     "name": "stdout",
     "output_type": "stream",
     "text": [
      "0\n",
      "1\n",
      "2\n",
      "3\n",
      "4\n",
      "5\n",
      "6\n",
      "7\n",
      "8\n",
      "9\n"
     ]
    }
   ],
   "source": [
    "for i in range(10):\n",
    "    if i==5:\n",
    "        pass\n",
    "    print(i)"
   ]
  },
  {
   "cell_type": "code",
   "execution_count": null,
   "metadata": {},
   "outputs": [],
   "source": []
  },
  {
   "cell_type": "markdown",
   "metadata": {},
   "source": [
    "# Functions\n",
    "- def and return\n",
    "- built-in\n",
    "- Parameters (positional, keyword, default)\n",
    "- *args, **kwargs\n",
    "- returning VS printing\n",
    "- Nesting, decorators\n",
    "- local VS global variables\n",
    "- Recursion: Factorial"
   ]
  },
  {
   "cell_type": "code",
   "execution_count": 54,
   "metadata": {},
   "outputs": [
    {
     "name": "stdout",
     "output_type": "stream",
     "text": [
      "asdf\n",
      "foobar\n",
      "Hello World\n"
     ]
    }
   ],
   "source": [
    "def function(something=\"Hello World\"):\n",
    "    print(something)\n",
    "\n",
    "function(\"asdf\")\n",
    "function(\"foobar\")\n",
    "function()"
   ]
  },
  {
   "cell_type": "code",
   "execution_count": 50,
   "metadata": {},
   "outputs": [
    {
     "name": "stdout",
     "output_type": "stream",
     "text": [
      "Hello World!\n",
      "123\n"
     ]
    },
    {
     "data": {
      "text/plain": [
       "123"
      ]
     },
     "execution_count": 50,
     "metadata": {},
     "output_type": "execute_result"
    }
   ],
   "source": [
    "a = function()\n",
    "print(a)\n",
    "a"
   ]
  },
  {
   "cell_type": "code",
   "execution_count": 65,
   "metadata": {},
   "outputs": [
    {
     "name": "stdout",
     "output_type": "stream",
     "text": [
      "(1, 2, 3, 4, 5)\n"
     ]
    }
   ],
   "source": [
    "# Positional and Keyword arguments\n",
    "def sum(*args):\n",
    "#     print(b, c, a)\n",
    "    print(args)\n",
    "\n",
    "sum(1,2,3,4,5)\n",
    "# sum(99, c=5, 44)"
   ]
  },
  {
   "cell_type": "code",
   "execution_count": 66,
   "metadata": {},
   "outputs": [
    {
     "data": {
      "text/plain": [
       "120"
      ]
     },
     "execution_count": 66,
     "metadata": {},
     "output_type": "execute_result"
    }
   ],
   "source": [
    "def fact(n):\n",
    "    if n==0 or n==1:\n",
    "        return 1\n",
    "    return n*fact(n-1)\n",
    "fact(5)"
   ]
  },
  {
   "cell_type": "code",
   "execution_count": null,
   "metadata": {},
   "outputs": [],
   "source": []
  },
  {
   "cell_type": "code",
   "execution_count": null,
   "metadata": {},
   "outputs": [],
   "source": []
  },
  {
   "cell_type": "markdown",
   "metadata": {},
   "source": [
    "# Data Structures\n",
    "1. List\n",
    "2. Tuple\n",
    "3. Dictionary\n",
    "4. Set"
   ]
  },
  {
   "cell_type": "markdown",
   "metadata": {},
   "source": [
    "## 1. List\n",
    "    - Intialization\n",
    "    - Indexing\n",
    "    - Methods (functions VS methods)\n",
    "    - Operations\n",
    "    - *Slicing\n"
   ]
  },
  {
   "cell_type": "code",
   "execution_count": 83,
   "metadata": {},
   "outputs": [
    {
     "data": {
      "text/plain": [
       "[-99, 1, 1, 2, 2, 100]"
      ]
     },
     "execution_count": 83,
     "metadata": {},
     "output_type": "execute_result"
    }
   ],
   "source": [
    "sorted([-99,1,100,1,2,2]) # Returns copy"
   ]
  },
  {
   "cell_type": "code",
   "execution_count": 84,
   "metadata": {},
   "outputs": [
    {
     "name": "stdout",
     "output_type": "stream",
     "text": [
      "[1, 2, 3, 4, 5]\n",
      "[5, 4, 3, 2, 1]\n",
      "[5, 4, 3, 2, 1, 6]\n",
      "[5, 4, 3, 2, 1]\n",
      "[1, 2, 3, 4, 5]\n",
      "[1, 2, 3, 4, 5]\n",
      "[1, 2, 3, 4, 5, 1, 2, 3, 4, 5, 1, 2, 3, 4, 5]\n",
      "[1, 2, 3, 4, 5]\n"
     ]
    }
   ],
   "source": [
    "len(\"Hello Word\")\n",
    "\n",
    "# Lists can be heterogenous\n",
    "# Nested lists\n",
    "l = [1,2, [3,4], 5]\n",
    "\n",
    "a = [1,2,3,4,5]\n",
    "a.sort(reverse=True) # Inplace\n",
    "print(sorted(a))\n",
    "print(a)\n",
    "a.append(6) # Append to the list\n",
    "print(a)\n",
    "a.pop() # Remove last element and return it\n",
    "print(a)\n",
    "a.sort() # Default sorting is ascending\n",
    "print(a)\n",
    "a.insert(0,99) # (position, value)\n",
    "a.remove(99) # Remove element from list\n",
    "print(a)\n",
    "\n",
    "print(a * 3)\n",
    "print(a)"
   ]
  },
  {
   "cell_type": "markdown",
   "metadata": {},
   "source": [
    "### str methods\n",
    "    - split, strip, lower, join...'"
   ]
  },
  {
   "cell_type": "code",
   "execution_count": 90,
   "metadata": {},
   "outputs": [
    {
     "name": "stdout",
     "output_type": "stream",
     "text": [
      "asdf asfd 1\n"
     ]
    },
    {
     "data": {
      "text/plain": [
       "'Hello World !'"
      ]
     },
     "execution_count": 90,
     "metadata": {},
     "output_type": "execute_result"
    }
   ],
   "source": [
    "print(\"asdf {} {}\".format('asfd',1))\n",
    "\n",
    "s = \"Hello World !\"\n",
    "l = s.split(' ')\n",
    "' '.join(l)"
   ]
  },
  {
   "cell_type": "code",
   "execution_count": 270,
   "metadata": {},
   "outputs": [
    {
     "name": "stdout",
     "output_type": "stream",
     "text": [
      "\n",
      " \t\n",
      "hello\n",
      "HELLO\n",
      "Camel Case\n"
     ]
    }
   ],
   "source": [
    "s = \"       This is a                sentence.    \"\n",
    "s.strip()\n",
    "\n",
    "print('\\n', '\\t')\n",
    "\n",
    "print('HELLO'.lower())\n",
    "print('hello'.upper())\n",
    "print('camel case'.title())"
   ]
  },
  {
   "cell_type": "code",
   "execution_count": 98,
   "metadata": {},
   "outputs": [
    {
     "data": {
      "text/plain": [
       "[2, 3, 4, 5]"
      ]
     },
     "execution_count": 98,
     "metadata": {},
     "output_type": "execute_result"
    }
   ],
   "source": [
    "a = [1,2,3,4,5]\n",
    "s = \"Machine Learning\"\n",
    "s[0:3]\n",
    "a[1:9]\n",
    "\n"
   ]
  },
  {
   "cell_type": "code",
   "execution_count": 99,
   "metadata": {},
   "outputs": [
    {
     "data": {
      "text/plain": [
       "[2, 3, 4, 5]"
      ]
     },
     "execution_count": 99,
     "metadata": {},
     "output_type": "execute_result"
    }
   ],
   "source": [
    "a[1:]"
   ]
  },
  {
   "cell_type": "code",
   "execution_count": 100,
   "metadata": {},
   "outputs": [
    {
     "data": {
      "text/plain": [
       "'Machi'"
      ]
     },
     "execution_count": 100,
     "metadata": {},
     "output_type": "execute_result"
    }
   ],
   "source": [
    "s[:5]"
   ]
  },
  {
   "cell_type": "code",
   "execution_count": 104,
   "metadata": {},
   "outputs": [
    {
     "name": "stdout",
     "output_type": "stream",
     "text": [
      "[1, 2, 3, 4, 5]\n",
      "Machine Learning\n",
      "Hello"
     ]
    }
   ],
   "source": [
    "print(a[:],  s[:], sep='\\n', end='\\nHello')"
   ]
  },
  {
   "cell_type": "code",
   "execution_count": 106,
   "metadata": {},
   "outputs": [
    {
     "data": {
      "text/plain": [
       "'g'"
      ]
     },
     "execution_count": 106,
     "metadata": {},
     "output_type": "execute_result"
    }
   ],
   "source": [
    "s[-1:]"
   ]
  },
  {
   "cell_type": "code",
   "execution_count": 117,
   "metadata": {},
   "outputs": [
    {
     "name": "stdout",
     "output_type": "stream",
     "text": [
      "[1, 2, 3, 4, 5]\n",
      "gninraeL enihcaM\n",
      "1\n",
      "2\n",
      "3\n",
      "4\n",
      "5\n"
     ]
    }
   ],
   "source": [
    "print(a)\n",
    "a[0:4:3]\n",
    "\n",
    "print(s[::-1])\n",
    "\n",
    "for i in [1,2,3,4,5]: # for i in range(1, 6, 2)\n",
    "    print(i)"
   ]
  },
  {
   "cell_type": "markdown",
   "metadata": {},
   "source": [
    "## 2. Dictionary\n",
    "    - Initialization\n",
    "    - Methods\n",
    "    - hash()\n",
    "    - Iterating"
   ]
  },
  {
   "cell_type": "code",
   "execution_count": 123,
   "metadata": {},
   "outputs": [
    {
     "name": "stdout",
     "output_type": "stream",
     "text": [
      "<class 'dict'>\n",
      "dict_keys(['a', 'b'])\n",
      "dict_values([97, 98])\n",
      "Value at key a is 97\n",
      "Value at key b is 98\n",
      "('a', 97)\n",
      "('b', 98)\n"
     ]
    }
   ],
   "source": [
    "d = {}\n",
    "d = {'a': 97, 'b': 98}\n",
    "print(type(d))\n",
    "d['a']\n",
    "print(d.keys())\n",
    "print(d.values())\n",
    "\n",
    "for i in d:\n",
    "    print('Value at key {} is {}'.format(i,d[i]))\n",
    "    \n",
    "for i in d.items():\n",
    "    print(i)"
   ]
  },
  {
   "cell_type": "markdown",
   "metadata": {},
   "source": [
    "## 3. Tuples\n",
    "    - ''\n",
    "    - Packing, Unpacking"
   ]
  },
  {
   "cell_type": "code",
   "execution_count": 134,
   "metadata": {},
   "outputs": [
    {
     "name": "stdout",
     "output_type": "stream",
     "text": [
      "<class 'tuple'>\n",
      "<class 'tuple'>\n",
      "[1, 2, 99, 4, 5]\n",
      "1\n",
      "(1, 2, 3, 4)\n",
      "a is 1\n"
     ]
    }
   ],
   "source": [
    "t = tuple()\n",
    "print(type(t))\n",
    "t = (1,)\n",
    "print(type(t))\n",
    "l = [1,2,3,4,5]\n",
    "l[2] = 99\n",
    "print(l)\n",
    "# t[0] = 3 Immutability\n",
    "print(t[0])\n",
    "t = (1,2,3,4) # Packing\n",
    "print(t)\n",
    "a, b, c, d = t # Unpacking\n",
    "print('a is', a)"
   ]
  },
  {
   "cell_type": "markdown",
   "metadata": {},
   "source": [
    "## 4. Set\n",
    "    - ''\n",
    "    - Methods: union, intersection, difference"
   ]
  },
  {
   "cell_type": "code",
   "execution_count": 138,
   "metadata": {},
   "outputs": [
    {
     "data": {
      "text/plain": [
       "{1, 4}"
      ]
     },
     "execution_count": 138,
     "metadata": {},
     "output_type": "execute_result"
    }
   ],
   "source": [
    "# Uniqueness\n",
    "\n",
    "s = {1,1,1,1,1,1,1,1,1,1,2,}\n",
    "s\n",
    "a = {1,2,3,4}\n",
    "b = {2,3}\n",
    "a.union(b)\n",
    "a.intersection(b)\n",
    "a.difference(b)"
   ]
  },
  {
   "cell_type": "code",
   "execution_count": null,
   "metadata": {},
   "outputs": [],
   "source": []
  },
  {
   "cell_type": "code",
   "execution_count": null,
   "metadata": {},
   "outputs": [],
   "source": []
  },
  {
   "cell_type": "code",
   "execution_count": null,
   "metadata": {},
   "outputs": [],
   "source": []
  },
  {
   "cell_type": "markdown",
   "metadata": {},
   "source": [
    "## {List | Tuple | Dictionary | Set} Comprehension"
   ]
  },
  {
   "cell_type": "markdown",
   "metadata": {},
   "source": []
  },
  {
   "cell_type": "markdown",
   "metadata": {},
   "source": [
    "# Modules | Importing\n",
    "    - import __\n",
    "    - from __ import __\n",
    "    - *"
   ]
  },
  {
   "cell_type": "code",
   "execution_count": 259,
   "metadata": {},
   "outputs": [
    {
     "name": "stdout",
     "output_type": "stream",
     "text": [
      "[1, 2, 3, 4, 5]\n",
      "[4, 1, 2, 5, 3]\n",
      "my factorial\n"
     ]
    },
    {
     "ename": "NameError",
     "evalue": "name 'randint' is not defined",
     "output_type": "error",
     "traceback": [
      "\u001b[0;31m---------------------------------------------------------------------------\u001b[0m",
      "\u001b[0;31mNameError\u001b[0m                                 Traceback (most recent call last)",
      "\u001b[0;32m<ipython-input-259-8b1e0da15262>\u001b[0m in \u001b[0;36m<module>\u001b[0;34m\u001b[0m\n\u001b[1;32m     17\u001b[0m     \u001b[0mprint\u001b[0m\u001b[0;34m(\u001b[0m\u001b[0;34m'my factorial'\u001b[0m\u001b[0;34m)\u001b[0m\u001b[0;34m\u001b[0m\u001b[0m\n\u001b[1;32m     18\u001b[0m \u001b[0mfactorial\u001b[0m\u001b[0;34m(\u001b[0m\u001b[0;36m5\u001b[0m\u001b[0;34m)\u001b[0m\u001b[0;34m\u001b[0m\u001b[0m\n\u001b[0;32m---> 19\u001b[0;31m \u001b[0mrandint\u001b[0m\u001b[0;34m\u001b[0m\u001b[0m\n\u001b[0m",
      "\u001b[0;31mNameError\u001b[0m: name 'randint' is not defined"
     ]
    }
   ],
   "source": [
    "import random\n",
    "a = [1,2,3,4,5]\n",
    "random.choice(a)\n",
    "print(a)\n",
    "random.shuffle(a)\n",
    "print(a)\n",
    "\n",
    "from random import choice, random\n",
    "choice(a)\n",
    "\n",
    "from random import choice as mychoice\n",
    "mychoice(a)\n",
    "\n",
    "from math import * # matters where \n",
    "def factorial(n):\n",
    "    from random import randint # Scope limited to function\n",
    "    print('my factorial')    \n",
    "factorial(5)\n",
    "randint # Not in the outer scope"
   ]
  },
  {
   "cell_type": "markdown",
   "metadata": {},
   "source": [
    "# Object-Oriented Programming"
   ]
  },
  {
   "cell_type": "code",
   "execution_count": null,
   "metadata": {},
   "outputs": [],
   "source": []
  },
  {
   "cell_type": "markdown",
   "metadata": {},
   "source": [
    "# Exception Handling\n",
    "- try, catch, finally\n",
    "- NameError, KeyError, TypeError, IndexError"
   ]
  },
  {
   "cell_type": "code",
   "execution_count": null,
   "metadata": {},
   "outputs": [],
   "source": []
  },
  {
   "cell_type": "markdown",
   "metadata": {},
   "source": [
    "# File Handling\n",
    "- access modes\n",
    "- closing file\n",
    "- 'with' syntax\n",
    "- txt, json, csv"
   ]
  },
  {
   "cell_type": "code",
   "execution_count": null,
   "metadata": {},
   "outputs": [],
   "source": []
  },
  {
   "cell_type": "markdown",
   "metadata": {},
   "source": [
    "# built-in functions\n",
    "- enumerate\n",
    "- sorted (lambda)\n",
    "- all, any\n",
    "- eval\n",
    "- hex, bin"
   ]
  },
  {
   "cell_type": "code",
   "execution_count": null,
   "metadata": {},
   "outputs": [],
   "source": []
  },
  {
   "cell_type": "markdown",
   "metadata": {},
   "source": [
    "### Time for datetime?"
   ]
  }
 ],
 "metadata": {
  "kernelspec": {
   "display_name": "Python 3",
   "language": "python",
   "name": "python3"
  },
  "language_info": {
   "codemirror_mode": {
    "name": "ipython",
    "version": 3
   },
   "file_extension": ".py",
   "mimetype": "text/x-python",
   "name": "python",
   "nbconvert_exporter": "python",
   "pygments_lexer": "ipython3",
   "version": "3.7.0"
  }
 },
 "nbformat": 4,
 "nbformat_minor": 2
}
