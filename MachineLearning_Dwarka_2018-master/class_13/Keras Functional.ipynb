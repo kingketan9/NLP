{
 "cells": [
  {
   "cell_type": "code",
   "execution_count": 2,
   "metadata": {},
   "outputs": [],
   "source": [
    "import numpy as np\n",
    "import matplotlib.pyplot as plt\n",
    "\n",
    "import keras\n",
    "from keras.models import Model\n",
    "from keras.layers import Input, Dense, Activation\n",
    "from keras.utils import np_utils\n",
    "\n",
    "from pandas import read_csv\n",
    "from sklearn.model_selection import train_test_split"
   ]
  },
  {
   "cell_type": "code",
   "execution_count": 6,
   "metadata": {},
   "outputs": [
    {
     "name": "stdout",
     "output_type": "stream",
     "text": [
      "(33600, 784) (8400, 784) (33600,) (8400,)\n"
     ]
    }
   ],
   "source": [
    "dataset = read_csv(\"../datasets/mnist_data/train.csv\").values\n",
    "X_train, X_test, y_train, y_test = train_test_split(dataset[:,1:], dataset[:,0], \n",
    "                                                   test_size=0.2)\n",
    "print(X_train.shape, X_test.shape, y_train.shape, y_test.shape)"
   ]
  },
  {
   "cell_type": "code",
   "execution_count": 9,
   "metadata": {},
   "outputs": [],
   "source": [
    "X_train, X_test = X_train/255, X_test/255\n",
    "y_train, y_test = np_utils.to_categorical(y_train), np_utils.to_categorical(y_test) # OHV"
   ]
  },
  {
   "cell_type": "code",
   "execution_count": 21,
   "metadata": {},
   "outputs": [
    {
     "name": "stdout",
     "output_type": "stream",
     "text": [
      "_________________________________________________________________\n",
      "Layer (type)                 Output Shape              Param #   \n",
      "=================================================================\n",
      "input_1 (InputLayer)         (None, 784)               0         \n",
      "_________________________________________________________________\n",
      "dense_1 (Dense)              (None, 256)               200960    \n",
      "_________________________________________________________________\n",
      "dense_2 (Dense)              (None, 64)                16448     \n",
      "_________________________________________________________________\n",
      "dense_3 (Dense)              (None, 10)                650       \n",
      "=================================================================\n",
      "Total params: 218,058\n",
      "Trainable params: 218,058\n",
      "Non-trainable params: 0\n",
      "_________________________________________________________________\n"
     ]
    }
   ],
   "source": [
    "inp = Input(shape=(784,))\n",
    "fc1 = Dense(256, activation='sigmoid')(inp)\n",
    "fc2 = Dense(64, activation='sigmoid')(fc1)\n",
    "out = Dense(10, activation='softmax')(fc2)\n",
    "\n",
    "model = Model(inputs=inp, outputs=out)\n",
    "\n",
    "model.summary()"
   ]
  },
  {
   "cell_type": "code",
   "execution_count": 27,
   "metadata": {},
   "outputs": [],
   "source": [
    "model.compile(loss='categorical_crossentropy', optimizer='adagrad', metrics=['accuracy'])"
   ]
  },
  {
   "cell_type": "code",
   "execution_count": null,
   "metadata": {},
   "outputs": [],
   "source": []
  },
  {
   "cell_type": "code",
   "execution_count": 31,
   "metadata": {},
   "outputs": [
    {
     "name": "stdout",
     "output_type": "stream",
     "text": [
      "Train on 33600 samples, validate on 8400 samples\n",
      "Epoch 1/100\n",
      "33600/33600 [==============================] - 1s 39us/step - loss: 0.6648 - acc: 0.8029 - val_loss: 0.6746 - val_acc: 0.8032\n",
      "Epoch 2/100\n",
      "33600/33600 [==============================] - 1s 41us/step - loss: 0.6596 - acc: 0.8038 - val_loss: 0.6694 - val_acc: 0.8040\n",
      "Epoch 3/100\n",
      "33600/33600 [==============================] - 1s 37us/step - loss: 0.6546 - acc: 0.8048 - val_loss: 0.6637 - val_acc: 0.8063\n",
      "Epoch 4/100\n",
      "33600/33600 [==============================] - 1s 36us/step - loss: 0.6496 - acc: 0.8071 - val_loss: 0.6599 - val_acc: 0.8056\n",
      "Epoch 5/100\n",
      "33600/33600 [==============================] - 1s 35us/step - loss: 0.6449 - acc: 0.8081 - val_loss: 0.6543 - val_acc: 0.8076\n",
      "Epoch 6/100\n",
      "33600/33600 [==============================] - 1s 36us/step - loss: 0.6401 - acc: 0.8095 - val_loss: 0.6518 - val_acc: 0.8094\n",
      "Epoch 7/100\n",
      "33600/33600 [==============================] - 1s 36us/step - loss: 0.6357 - acc: 0.8102 - val_loss: 0.6461 - val_acc: 0.8107\n",
      "Epoch 8/100\n",
      "33600/33600 [==============================] - 1s 36us/step - loss: 0.6310 - acc: 0.8118 - val_loss: 0.6417 - val_acc: 0.8149\n",
      "Epoch 9/100\n",
      "33600/33600 [==============================] - 1s 36us/step - loss: 0.6268 - acc: 0.8138 - val_loss: 0.6374 - val_acc: 0.8138\n",
      "Epoch 10/100\n",
      "33600/33600 [==============================] - 1s 36us/step - loss: 0.6226 - acc: 0.8143 - val_loss: 0.6346 - val_acc: 0.8140\n",
      "Epoch 11/100\n",
      "33600/33600 [==============================] - 1s 36us/step - loss: 0.6186 - acc: 0.8154 - val_loss: 0.6296 - val_acc: 0.8146\n",
      "Epoch 12/100\n",
      "33600/33600 [==============================] - 1s 36us/step - loss: 0.6145 - acc: 0.8175 - val_loss: 0.6249 - val_acc: 0.8169\n",
      "Epoch 13/100\n",
      "33600/33600 [==============================] - 1s 36us/step - loss: 0.6106 - acc: 0.8183 - val_loss: 0.6213 - val_acc: 0.8171\n",
      "Epoch 14/100\n",
      "33600/33600 [==============================] - 1s 36us/step - loss: 0.6066 - acc: 0.8196 - val_loss: 0.6189 - val_acc: 0.8162\n",
      "Epoch 15/100\n",
      "33600/33600 [==============================] - 1s 36us/step - loss: 0.6029 - acc: 0.8204 - val_loss: 0.6149 - val_acc: 0.8190\n",
      "Epoch 16/100\n",
      "33600/33600 [==============================] - 1s 36us/step - loss: 0.5993 - acc: 0.8218 - val_loss: 0.6108 - val_acc: 0.8202\n",
      "Epoch 17/100\n",
      "33600/33600 [==============================] - 1s 38us/step - loss: 0.5958 - acc: 0.8229 - val_loss: 0.6074 - val_acc: 0.8221\n",
      "Epoch 18/100\n",
      "33600/33600 [==============================] - 1s 36us/step - loss: 0.5921 - acc: 0.8236 - val_loss: 0.6044 - val_acc: 0.8212\n",
      "Epoch 19/100\n",
      "33600/33600 [==============================] - 1s 36us/step - loss: 0.5888 - acc: 0.8248 - val_loss: 0.6005 - val_acc: 0.8226\n",
      "Epoch 20/100\n",
      "33600/33600 [==============================] - 1s 36us/step - loss: 0.5855 - acc: 0.8265 - val_loss: 0.5979 - val_acc: 0.8246\n",
      "Epoch 21/100\n",
      "33600/33600 [==============================] - 1s 36us/step - loss: 0.5823 - acc: 0.8270 - val_loss: 0.5953 - val_acc: 0.8268\n",
      "Epoch 22/100\n",
      "33600/33600 [==============================] - 1s 36us/step - loss: 0.5789 - acc: 0.8279 - val_loss: 0.5910 - val_acc: 0.8264\n",
      "Epoch 23/100\n",
      "33600/33600 [==============================] - 1s 37us/step - loss: 0.5756 - acc: 0.8289 - val_loss: 0.5896 - val_acc: 0.8250\n",
      "Epoch 24/100\n",
      "33600/33600 [==============================] - 1s 36us/step - loss: 0.5725 - acc: 0.8297 - val_loss: 0.5850 - val_acc: 0.8299\n",
      "Epoch 25/100\n",
      "33600/33600 [==============================] - 1s 36us/step - loss: 0.5695 - acc: 0.8308 - val_loss: 0.5823 - val_acc: 0.8286\n",
      "Epoch 26/100\n",
      "33600/33600 [==============================] - 1s 36us/step - loss: 0.5665 - acc: 0.8321 - val_loss: 0.5795 - val_acc: 0.8281\n",
      "Epoch 27/100\n",
      "33600/33600 [==============================] - 1s 36us/step - loss: 0.5634 - acc: 0.8326 - val_loss: 0.5760 - val_acc: 0.8319\n",
      "Epoch 28/100\n",
      "33600/33600 [==============================] - 1s 36us/step - loss: 0.5606 - acc: 0.8342 - val_loss: 0.5737 - val_acc: 0.8318\n",
      "Epoch 29/100\n",
      "33600/33600 [==============================] - 1s 37us/step - loss: 0.5577 - acc: 0.8350 - val_loss: 0.5712 - val_acc: 0.8336\n",
      "Epoch 30/100\n",
      "33600/33600 [==============================] - 1s 38us/step - loss: 0.5548 - acc: 0.8358 - val_loss: 0.5681 - val_acc: 0.8343\n",
      "Epoch 31/100\n",
      "33600/33600 [==============================] - 1s 36us/step - loss: 0.5521 - acc: 0.8365 - val_loss: 0.5670 - val_acc: 0.8356\n",
      "Epoch 32/100\n",
      "33600/33600 [==============================] - 1s 36us/step - loss: 0.5495 - acc: 0.8377 - val_loss: 0.5633 - val_acc: 0.8339\n",
      "Epoch 33/100\n",
      "33600/33600 [==============================] - 1s 37us/step - loss: 0.5468 - acc: 0.8390 - val_loss: 0.5605 - val_acc: 0.8373\n",
      "Epoch 34/100\n",
      "33600/33600 [==============================] - 1s 37us/step - loss: 0.5442 - acc: 0.8394 - val_loss: 0.5590 - val_acc: 0.8364\n",
      "Epoch 35/100\n",
      "33600/33600 [==============================] - 1s 36us/step - loss: 0.5415 - acc: 0.8400 - val_loss: 0.5553 - val_acc: 0.8379\n",
      "Epoch 36/100\n",
      "33600/33600 [==============================] - 1s 37us/step - loss: 0.5391 - acc: 0.8405 - val_loss: 0.5534 - val_acc: 0.8368\n",
      "Epoch 37/100\n",
      "33600/33600 [==============================] - 1s 40us/step - loss: 0.5367 - acc: 0.8415 - val_loss: 0.5503 - val_acc: 0.8401\n",
      "Epoch 38/100\n",
      "33600/33600 [==============================] - 1s 37us/step - loss: 0.5341 - acc: 0.8423 - val_loss: 0.5492 - val_acc: 0.8393\n",
      "Epoch 39/100\n",
      "33600/33600 [==============================] - 1s 37us/step - loss: 0.5317 - acc: 0.8430 - val_loss: 0.5458 - val_acc: 0.8420\n",
      "Epoch 40/100\n",
      "33600/33600 [==============================] - 1s 37us/step - loss: 0.5294 - acc: 0.8442 - val_loss: 0.5443 - val_acc: 0.8405\n",
      "Epoch 41/100\n",
      "33600/33600 [==============================] - 1s 38us/step - loss: 0.5271 - acc: 0.8445 - val_loss: 0.5414 - val_acc: 0.8436\n",
      "Epoch 42/100\n",
      "33600/33600 [==============================] - 1s 36us/step - loss: 0.5247 - acc: 0.8455 - val_loss: 0.5392 - val_acc: 0.8445\n",
      "Epoch 43/100\n",
      "33600/33600 [==============================] - 1s 36us/step - loss: 0.5225 - acc: 0.8459 - val_loss: 0.5382 - val_acc: 0.8449\n",
      "Epoch 44/100\n",
      "33600/33600 [==============================] - 1s 36us/step - loss: 0.5203 - acc: 0.8468 - val_loss: 0.5348 - val_acc: 0.8444\n",
      "Epoch 45/100\n",
      "33600/33600 [==============================] - 1s 40us/step - loss: 0.5181 - acc: 0.8486 - val_loss: 0.5331 - val_acc: 0.8445\n",
      "Epoch 46/100\n",
      "33600/33600 [==============================] - 1s 36us/step - loss: 0.5158 - acc: 0.8481 - val_loss: 0.5315 - val_acc: 0.8470\n",
      "Epoch 47/100\n",
      "33600/33600 [==============================] - 1s 37us/step - loss: 0.5137 - acc: 0.8490 - val_loss: 0.5289 - val_acc: 0.8467\n",
      "Epoch 48/100\n",
      "33600/33600 [==============================] - 1s 36us/step - loss: 0.5116 - acc: 0.8500 - val_loss: 0.5268 - val_acc: 0.8476\n",
      "Epoch 49/100\n",
      "33600/33600 [==============================] - 1s 38us/step - loss: 0.5097 - acc: 0.8499 - val_loss: 0.5251 - val_acc: 0.8482\n",
      "Epoch 50/100\n",
      "33600/33600 [==============================] - 1s 36us/step - loss: 0.5076 - acc: 0.8509 - val_loss: 0.5229 - val_acc: 0.8487\n",
      "Epoch 51/100\n",
      "33600/33600 [==============================] - 1s 39us/step - loss: 0.5056 - acc: 0.8512 - val_loss: 0.5209 - val_acc: 0.8506\n",
      "Epoch 52/100\n",
      "33600/33600 [==============================] - 1s 38us/step - loss: 0.5036 - acc: 0.8518 - val_loss: 0.5187 - val_acc: 0.8517\n",
      "Epoch 53/100\n",
      "33600/33600 [==============================] - 1s 37us/step - loss: 0.5019 - acc: 0.8526 - val_loss: 0.5172 - val_acc: 0.8521\n",
      "Epoch 54/100\n",
      "33600/33600 [==============================] - 1s 37us/step - loss: 0.4998 - acc: 0.8532 - val_loss: 0.5151 - val_acc: 0.8529\n",
      "Epoch 55/100\n",
      "33600/33600 [==============================] - 1s 36us/step - loss: 0.4979 - acc: 0.8542 - val_loss: 0.5140 - val_acc: 0.8507\n",
      "Epoch 56/100\n",
      "33600/33600 [==============================] - 1s 38us/step - loss: 0.4961 - acc: 0.8537 - val_loss: 0.5118 - val_acc: 0.8523\n",
      "Epoch 57/100\n",
      "33600/33600 [==============================] - 1s 38us/step - loss: 0.4941 - acc: 0.8552 - val_loss: 0.5110 - val_acc: 0.8545\n",
      "Epoch 58/100\n",
      "33600/33600 [==============================] - 1s 38us/step - loss: 0.4926 - acc: 0.8556 - val_loss: 0.5091 - val_acc: 0.8532\n",
      "Epoch 59/100\n"
     ]
    },
    {
     "name": "stdout",
     "output_type": "stream",
     "text": [
      "33600/33600 [==============================] - 1s 37us/step - loss: 0.4908 - acc: 0.8559 - val_loss: 0.5067 - val_acc: 0.8551\n",
      "Epoch 60/100\n",
      "33600/33600 [==============================] - 1s 36us/step - loss: 0.4890 - acc: 0.8564 - val_loss: 0.5061 - val_acc: 0.8562\n",
      "Epoch 61/100\n",
      "33600/33600 [==============================] - 1s 39us/step - loss: 0.4873 - acc: 0.8575 - val_loss: 0.5040 - val_acc: 0.8550\n",
      "Epoch 62/100\n",
      "33600/33600 [==============================] - 1s 36us/step - loss: 0.4858 - acc: 0.8577 - val_loss: 0.5016 - val_acc: 0.8583\n",
      "Epoch 63/100\n",
      "33600/33600 [==============================] - 1s 37us/step - loss: 0.4839 - acc: 0.8583 - val_loss: 0.5011 - val_acc: 0.8561\n",
      "Epoch 64/100\n",
      "33600/33600 [==============================] - 1s 37us/step - loss: 0.4825 - acc: 0.8579 - val_loss: 0.4990 - val_acc: 0.8574\n",
      "Epoch 65/100\n",
      "33600/33600 [==============================] - 1s 40us/step - loss: 0.4808 - acc: 0.8592 - val_loss: 0.4973 - val_acc: 0.8581\n",
      "Epoch 66/100\n",
      "33600/33600 [==============================] - 1s 40us/step - loss: 0.4790 - acc: 0.8599 - val_loss: 0.4962 - val_acc: 0.8592\n",
      "Epoch 67/100\n",
      "33600/33600 [==============================] - 1s 39us/step - loss: 0.4777 - acc: 0.8599 - val_loss: 0.4946 - val_acc: 0.8598\n",
      "Epoch 68/100\n",
      "33600/33600 [==============================] - 1s 42us/step - loss: 0.4762 - acc: 0.8604 - val_loss: 0.4927 - val_acc: 0.8595\n",
      "Epoch 69/100\n",
      "33600/33600 [==============================] - 1s 42us/step - loss: 0.4747 - acc: 0.8604 - val_loss: 0.4918 - val_acc: 0.8613\n",
      "Epoch 70/100\n",
      "33600/33600 [==============================] - 1s 41us/step - loss: 0.4732 - acc: 0.8618 - val_loss: 0.4904 - val_acc: 0.8607\n",
      "Epoch 71/100\n",
      "33600/33600 [==============================] - 2s 52us/step - loss: 0.4717 - acc: 0.8615 - val_loss: 0.4885 - val_acc: 0.8620\n",
      "Epoch 72/100\n",
      "33600/33600 [==============================] - 2s 54us/step - loss: 0.4702 - acc: 0.8620 - val_loss: 0.4874 - val_acc: 0.8624\n",
      "Epoch 73/100\n",
      "33600/33600 [==============================] - 1s 43us/step - loss: 0.4688 - acc: 0.8629 - val_loss: 0.4866 - val_acc: 0.8619\n",
      "Epoch 74/100\n",
      "33600/33600 [==============================] - 1s 41us/step - loss: 0.4675 - acc: 0.8631 - val_loss: 0.4848 - val_acc: 0.8632\n",
      "Epoch 75/100\n",
      "33600/33600 [==============================] - 1s 36us/step - loss: 0.4661 - acc: 0.8640 - val_loss: 0.4837 - val_acc: 0.8619\n",
      "Epoch 76/100\n",
      "33600/33600 [==============================] - 1s 36us/step - loss: 0.4648 - acc: 0.8643 - val_loss: 0.4828 - val_acc: 0.8632\n",
      "Epoch 77/100\n",
      "33600/33600 [==============================] - 1s 37us/step - loss: 0.4634 - acc: 0.8655 - val_loss: 0.4815 - val_acc: 0.8636\n",
      "Epoch 78/100\n",
      "33600/33600 [==============================] - 1s 36us/step - loss: 0.4620 - acc: 0.8651 - val_loss: 0.4798 - val_acc: 0.8635\n",
      "Epoch 79/100\n",
      "33600/33600 [==============================] - 1s 37us/step - loss: 0.4609 - acc: 0.8654 - val_loss: 0.4784 - val_acc: 0.8648\n",
      "Epoch 80/100\n",
      "33600/33600 [==============================] - 1s 37us/step - loss: 0.4594 - acc: 0.8651 - val_loss: 0.4771 - val_acc: 0.8654\n",
      "Epoch 81/100\n",
      "33600/33600 [==============================] - 1s 38us/step - loss: 0.4582 - acc: 0.8664 - val_loss: 0.4760 - val_acc: 0.8660\n",
      "Epoch 82/100\n",
      "33600/33600 [==============================] - 1s 36us/step - loss: 0.4569 - acc: 0.8663 - val_loss: 0.4751 - val_acc: 0.8652\n",
      "Epoch 83/100\n",
      "33600/33600 [==============================] - 1s 36us/step - loss: 0.4557 - acc: 0.8668 - val_loss: 0.4740 - val_acc: 0.8651\n",
      "Epoch 84/100\n",
      "33600/33600 [==============================] - 1s 36us/step - loss: 0.4545 - acc: 0.8669 - val_loss: 0.4727 - val_acc: 0.8656\n",
      "Epoch 85/100\n",
      "33600/33600 [==============================] - 1s 37us/step - loss: 0.4532 - acc: 0.8673 - val_loss: 0.4712 - val_acc: 0.8649\n",
      "Epoch 86/100\n",
      "33600/33600 [==============================] - 1s 36us/step - loss: 0.4523 - acc: 0.8669 - val_loss: 0.4701 - val_acc: 0.8682\n",
      "Epoch 87/100\n",
      "33600/33600 [==============================] - 1s 36us/step - loss: 0.4511 - acc: 0.8674 - val_loss: 0.4689 - val_acc: 0.8677\n",
      "Epoch 88/100\n",
      "33600/33600 [==============================] - 1s 37us/step - loss: 0.4498 - acc: 0.8683 - val_loss: 0.4688 - val_acc: 0.8652\n",
      "Epoch 89/100\n",
      "33600/33600 [==============================] - 1s 36us/step - loss: 0.4488 - acc: 0.8685 - val_loss: 0.4673 - val_acc: 0.8683\n",
      "Epoch 90/100\n",
      "33600/33600 [==============================] - 1s 36us/step - loss: 0.4477 - acc: 0.8685 - val_loss: 0.4662 - val_acc: 0.8682\n",
      "Epoch 91/100\n",
      "33600/33600 [==============================] - 1s 36us/step - loss: 0.4465 - acc: 0.8693 - val_loss: 0.4647 - val_acc: 0.8687\n",
      "Epoch 92/100\n",
      "33600/33600 [==============================] - 1s 36us/step - loss: 0.4456 - acc: 0.8690 - val_loss: 0.4638 - val_acc: 0.8680\n",
      "Epoch 93/100\n",
      "33600/33600 [==============================] - 1s 36us/step - loss: 0.4445 - acc: 0.8696 - val_loss: 0.4629 - val_acc: 0.8686\n",
      "Epoch 94/100\n",
      "33600/33600 [==============================] - 1s 37us/step - loss: 0.4435 - acc: 0.8695 - val_loss: 0.4623 - val_acc: 0.8677\n",
      "Epoch 95/100\n",
      "33600/33600 [==============================] - 1s 37us/step - loss: 0.4424 - acc: 0.8700 - val_loss: 0.4609 - val_acc: 0.8686\n",
      "Epoch 96/100\n",
      "33600/33600 [==============================] - 1s 36us/step - loss: 0.4412 - acc: 0.8710 - val_loss: 0.4608 - val_acc: 0.8687\n",
      "Epoch 97/100\n",
      "33600/33600 [==============================] - 1s 36us/step - loss: 0.4404 - acc: 0.8707 - val_loss: 0.4597 - val_acc: 0.8695\n",
      "Epoch 98/100\n",
      "33600/33600 [==============================] - 1s 36us/step - loss: 0.4393 - acc: 0.8705 - val_loss: 0.4581 - val_acc: 0.8708\n",
      "Epoch 99/100\n",
      "33600/33600 [==============================] - 1s 36us/step - loss: 0.4383 - acc: 0.8716 - val_loss: 0.4579 - val_acc: 0.8681\n",
      "Epoch 100/100\n",
      "33600/33600 [==============================] - 1s 37us/step - loss: 0.4374 - acc: 0.8716 - val_loss: 0.4569 - val_acc: 0.8705\n"
     ]
    }
   ],
   "source": [
    "hist = model.fit(X_train, y_train,\n",
    "          shuffle=True,\n",
    "          epochs=100,\n",
    "          batch_size=128,\n",
    "          validation_data=(X_test, y_test)\n",
    "         )"
   ]
  },
  {
   "cell_type": "code",
   "execution_count": 32,
   "metadata": {},
   "outputs": [
    {
     "data": {
      "image/png": "[encoded data removed]",
      "text/plain": [
       "<Figure size 432x288 with 1 Axes>"
      ]
     },
     "metadata": {
      "needs_background": "light"
     },
     "output_type": "display_data"
    },
    {
     "data": {
      "image/png": "[encoded data removed]",
      "text/plain": [
       "<Figure size 432x288 with 1 Axes>"
      ]
     },
     "metadata": {
      "needs_background": "light"
     },
     "output_type": "display_data"
    }
   ],
   "source": [
    "plt.figure(0)\n",
    "plt.title(\"Loss\")\n",
    "plt.plot(hist.history['loss'], 'r', label='Training')\n",
    "plt.plot(hist.history['val_loss'], 'b', label='Validation')\n",
    "plt.legend()\n",
    "plt.show()\n",
    "\n",
    "plt.figure(1)\n",
    "plt.title(\"Accuracy\")\n",
    "plt.plot(hist.history['acc'], 'r', label='Training')\n",
    "plt.plot(hist.history['val_acc'], 'b', label='Validation')\n",
    "plt.legend()\n",
    "plt.show()"
   ]
  },
  {
   "cell_type": "code",
   "execution_count": null,
   "metadata": {},
   "outputs": [],
   "source": []
  }
 ],
 "metadata": {
  "kernelspec": {
   "display_name": "Python 3",
   "language": "python",
   "name": "python3"
  },
  "language_info": {
   "codemirror_mode": {
    "name": "ipython",
    "version": 3
   },
   "file_extension": ".py",
   "mimetype": "text/x-python",
   "name": "python",
   "nbconvert_exporter": "python",
   "pygments_lexer": "ipython3",
   "version": "3.7.0"
  }
 },
 "nbformat": 4,
 "nbformat_minor": 2
}
